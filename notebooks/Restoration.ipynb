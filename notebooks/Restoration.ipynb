{
  "nbformat": 4,
  "nbformat_minor": 0,
  "metadata": {
    "colab": {
      "name": "Untitled0.ipynb",
      "provenance": []
    },
    "kernelspec": {
      "name": "python3",
      "display_name": "Python 3"
    },
    "language_info": {
      "name": "python"
    }
  },
  "cells": [
    {
      "cell_type": "markdown",
      "source": [
        "Go to the last cell and change **sample_text** variable to the text you wish to restore and run the notebook. "
      ],
      "metadata": {
        "id": "SXMWjweG6zUy"
      }
    },
    {
      "cell_type": "code",
      "execution_count": 3,
      "metadata": {
        "colab": {
          "base_uri": "https://localhost:8080/"
        },
        "id": "YennbbpdVCID",
        "outputId": "0512090e-acaf-4b55-dbcc-13746c8dab66"
      },
      "outputs": [
        {
          "output_type": "stream",
          "name": "stdout",
          "text": [
            "Cloning into 'bert-punctuation-restoration'...\n",
            "remote: Enumerating objects: 210, done.\u001b[K\n",
            "remote: Counting objects: 100% (210/210), done.\u001b[K\n",
            "remote: Compressing objects: 100% (136/136), done.\u001b[K\n",
            "remote: Total 210 (delta 110), reused 156 (delta 60), pack-reused 0\u001b[K\n",
            "Receiving objects: 100% (210/210), 35.45 KiB | 1.69 MiB/s, done.\n",
            "Resolving deltas: 100% (110/110), done.\n",
            "/content/bert-punctuation-restoration/bert-punctuation-restoration\n",
            "/usr/local/lib/python3.7/dist-packages/gdown/cli.py:131: FutureWarning: Option `--id` was deprecated in version 4.3.1 and will be removed in 5.0. You don't need to pass it anymore to use a file ID.\n",
            "  category=FutureWarning,\n",
            "Downloading...\n",
            "From: https://drive.google.com/uc?id=1-0WolA-FZVVo22ZEyFGDZfEnKXexK562\n",
            "To: /content/bert-punctuation-restoration/bert-punctuation-restoration/models/base-256.pth\n",
            "100% 439M/439M [00:02<00:00, 197MB/s]\n",
            "Looking in indexes: https://pypi.org/simple, https://us-python.pkg.dev/colab-wheels/public/simple/\n",
            "Requirement already satisfied: lxml~=4.9.0 in /usr/local/lib/python3.7/dist-packages (from -r ./requirements.txt (line 1)) (4.9.0)\n",
            "Requirement already satisfied: gdown~=4.4.0 in /usr/local/lib/python3.7/dist-packages (from -r ./requirements.txt (line 2)) (4.4.0)\n",
            "Requirement already satisfied: numpy in /usr/local/lib/python3.7/dist-packages (from -r ./requirements.txt (line 3)) (1.21.6)\n",
            "Requirement already satisfied: torch~=1.11.0 in /usr/local/lib/python3.7/dist-packages (from -r ./requirements.txt (line 4)) (1.11.0+cu113)\n",
            "Requirement already satisfied: transformers~=4.19.4 in /usr/local/lib/python3.7/dist-packages (from -r ./requirements.txt (line 5)) (4.19.4)\n",
            "Requirement already satisfied: tqdm~=4.64.0 in /usr/local/lib/python3.7/dist-packages (from -r ./requirements.txt (line 6)) (4.64.0)\n",
            "Requirement already satisfied: torchinfo in /usr/local/lib/python3.7/dist-packages (from -r ./requirements.txt (line 7)) (1.7.0)\n",
            "Requirement already satisfied: scikit-learn~=1.0.2 in /usr/local/lib/python3.7/dist-packages (from -r ./requirements.txt (line 8)) (1.0.2)\n",
            "Requirement already satisfied: ipython~=7.34 in /usr/local/lib/python3.7/dist-packages (from -r ./requirements.txt (line 9)) (7.34.0)\n",
            "Requirement already satisfied: matplotlib~=3.5.1 in /usr/local/lib/python3.7/dist-packages (from -r ./requirements.txt (line 10)) (3.5.2)\n",
            "Requirement already satisfied: pandas~=1.3.5 in /usr/local/lib/python3.7/dist-packages (from -r ./requirements.txt (line 11)) (1.3.5)\n",
            "Requirement already satisfied: nltk~=3.7 in /usr/local/lib/python3.7/dist-packages (from -r ./requirements.txt (line 12)) (3.7)\n",
            "Requirement already satisfied: six in /usr/local/lib/python3.7/dist-packages (from gdown~=4.4.0->-r ./requirements.txt (line 2)) (1.15.0)\n",
            "Requirement already satisfied: filelock in /usr/local/lib/python3.7/dist-packages (from gdown~=4.4.0->-r ./requirements.txt (line 2)) (3.7.1)\n",
            "Requirement already satisfied: requests[socks] in /usr/local/lib/python3.7/dist-packages (from gdown~=4.4.0->-r ./requirements.txt (line 2)) (2.23.0)\n",
            "Requirement already satisfied: beautifulsoup4 in /usr/local/lib/python3.7/dist-packages (from gdown~=4.4.0->-r ./requirements.txt (line 2)) (4.6.3)\n",
            "Requirement already satisfied: typing-extensions in /usr/local/lib/python3.7/dist-packages (from torch~=1.11.0->-r ./requirements.txt (line 4)) (4.1.1)\n",
            "Requirement already satisfied: pyyaml>=5.1 in /usr/local/lib/python3.7/dist-packages (from transformers~=4.19.4->-r ./requirements.txt (line 5)) (6.0)\n",
            "Requirement already satisfied: packaging>=20.0 in /usr/local/lib/python3.7/dist-packages (from transformers~=4.19.4->-r ./requirements.txt (line 5)) (21.3)\n",
            "Requirement already satisfied: huggingface-hub<1.0,>=0.1.0 in /usr/local/lib/python3.7/dist-packages (from transformers~=4.19.4->-r ./requirements.txt (line 5)) (0.8.1)\n",
            "Requirement already satisfied: regex!=2019.12.17 in /usr/local/lib/python3.7/dist-packages (from transformers~=4.19.4->-r ./requirements.txt (line 5)) (2022.6.2)\n",
            "Requirement already satisfied: tokenizers!=0.11.3,<0.13,>=0.11.1 in /usr/local/lib/python3.7/dist-packages (from transformers~=4.19.4->-r ./requirements.txt (line 5)) (0.12.1)\n",
            "Requirement already satisfied: importlib-metadata in /usr/local/lib/python3.7/dist-packages (from transformers~=4.19.4->-r ./requirements.txt (line 5)) (4.11.4)\n",
            "Requirement already satisfied: joblib>=0.11 in /usr/local/lib/python3.7/dist-packages (from scikit-learn~=1.0.2->-r ./requirements.txt (line 8)) (1.1.0)\n",
            "Requirement already satisfied: scipy>=1.1.0 in /usr/local/lib/python3.7/dist-packages (from scikit-learn~=1.0.2->-r ./requirements.txt (line 8)) (1.4.1)\n",
            "Requirement already satisfied: threadpoolctl>=2.0.0 in /usr/local/lib/python3.7/dist-packages (from scikit-learn~=1.0.2->-r ./requirements.txt (line 8)) (3.1.0)\n",
            "Requirement already satisfied: pickleshare in /usr/local/lib/python3.7/dist-packages (from ipython~=7.34->-r ./requirements.txt (line 9)) (0.7.5)\n",
            "Requirement already satisfied: jedi>=0.16 in /usr/local/lib/python3.7/dist-packages (from ipython~=7.34->-r ./requirements.txt (line 9)) (0.18.1)\n",
            "Requirement already satisfied: matplotlib-inline in /usr/local/lib/python3.7/dist-packages (from ipython~=7.34->-r ./requirements.txt (line 9)) (0.1.3)\n",
            "Requirement already satisfied: prompt-toolkit!=3.0.0,!=3.0.1,<3.1.0,>=2.0.0 in /usr/local/lib/python3.7/dist-packages (from ipython~=7.34->-r ./requirements.txt (line 9)) (3.0.29)\n",
            "Requirement already satisfied: backcall in /usr/local/lib/python3.7/dist-packages (from ipython~=7.34->-r ./requirements.txt (line 9)) (0.2.0)\n",
            "Requirement already satisfied: setuptools>=18.5 in /usr/local/lib/python3.7/dist-packages (from ipython~=7.34->-r ./requirements.txt (line 9)) (57.4.0)\n",
            "Requirement already satisfied: decorator in /usr/local/lib/python3.7/dist-packages (from ipython~=7.34->-r ./requirements.txt (line 9)) (4.4.2)\n",
            "Requirement already satisfied: traitlets>=4.2 in /usr/local/lib/python3.7/dist-packages (from ipython~=7.34->-r ./requirements.txt (line 9)) (5.1.1)\n",
            "Requirement already satisfied: pexpect>4.3 in /usr/local/lib/python3.7/dist-packages (from ipython~=7.34->-r ./requirements.txt (line 9)) (4.8.0)\n",
            "Requirement already satisfied: pygments in /usr/local/lib/python3.7/dist-packages (from ipython~=7.34->-r ./requirements.txt (line 9)) (2.6.1)\n",
            "Requirement already satisfied: python-dateutil>=2.7 in /usr/local/lib/python3.7/dist-packages (from matplotlib~=3.5.1->-r ./requirements.txt (line 10)) (2.8.2)\n",
            "Requirement already satisfied: cycler>=0.10 in /usr/local/lib/python3.7/dist-packages (from matplotlib~=3.5.1->-r ./requirements.txt (line 10)) (0.11.0)\n",
            "Requirement already satisfied: pillow>=6.2.0 in /usr/local/lib/python3.7/dist-packages (from matplotlib~=3.5.1->-r ./requirements.txt (line 10)) (7.1.2)\n",
            "Requirement already satisfied: kiwisolver>=1.0.1 in /usr/local/lib/python3.7/dist-packages (from matplotlib~=3.5.1->-r ./requirements.txt (line 10)) (1.4.3)\n",
            "Requirement already satisfied: pyparsing>=2.2.1 in /usr/local/lib/python3.7/dist-packages (from matplotlib~=3.5.1->-r ./requirements.txt (line 10)) (3.0.9)\n",
            "Requirement already satisfied: fonttools>=4.22.0 in /usr/local/lib/python3.7/dist-packages (from matplotlib~=3.5.1->-r ./requirements.txt (line 10)) (4.33.3)\n",
            "Requirement already satisfied: pytz>=2017.3 in /usr/local/lib/python3.7/dist-packages (from pandas~=1.3.5->-r ./requirements.txt (line 11)) (2022.1)\n",
            "Requirement already satisfied: click in /usr/local/lib/python3.7/dist-packages (from nltk~=3.7->-r ./requirements.txt (line 12)) (7.1.2)\n",
            "Requirement already satisfied: parso<0.9.0,>=0.8.0 in /usr/local/lib/python3.7/dist-packages (from jedi>=0.16->ipython~=7.34->-r ./requirements.txt (line 9)) (0.8.3)\n",
            "Requirement already satisfied: ptyprocess>=0.5 in /usr/local/lib/python3.7/dist-packages (from pexpect>4.3->ipython~=7.34->-r ./requirements.txt (line 9)) (0.7.0)\n",
            "Requirement already satisfied: wcwidth in /usr/local/lib/python3.7/dist-packages (from prompt-toolkit!=3.0.0,!=3.0.1,<3.1.0,>=2.0.0->ipython~=7.34->-r ./requirements.txt (line 9)) (0.2.5)\n",
            "Requirement already satisfied: zipp>=0.5 in /usr/local/lib/python3.7/dist-packages (from importlib-metadata->transformers~=4.19.4->-r ./requirements.txt (line 5)) (3.8.0)\n",
            "Requirement already satisfied: chardet<4,>=3.0.2 in /usr/local/lib/python3.7/dist-packages (from requests[socks]->gdown~=4.4.0->-r ./requirements.txt (line 2)) (3.0.4)\n",
            "Requirement already satisfied: idna<3,>=2.5 in /usr/local/lib/python3.7/dist-packages (from requests[socks]->gdown~=4.4.0->-r ./requirements.txt (line 2)) (2.10)\n",
            "Requirement already satisfied: certifi>=2017.4.17 in /usr/local/lib/python3.7/dist-packages (from requests[socks]->gdown~=4.4.0->-r ./requirements.txt (line 2)) (2022.6.15)\n",
            "Requirement already satisfied: urllib3!=1.25.0,!=1.25.1,<1.26,>=1.21.1 in /usr/local/lib/python3.7/dist-packages (from requests[socks]->gdown~=4.4.0->-r ./requirements.txt (line 2)) (1.24.3)\n",
            "Requirement already satisfied: PySocks!=1.5.7,>=1.5.6 in /usr/local/lib/python3.7/dist-packages (from requests[socks]->gdown~=4.4.0->-r ./requirements.txt (line 2)) (1.7.1)\n"
          ]
        }
      ],
      "source": [
        "# Uncomment & run the following code if working in Google Colab environment\n",
        "\n",
        "!git clone https://github.com/notantony/bert-punctuation-restoration\n",
        "%cd bert-punctuation-restoration\n",
        "\n",
        "!gdown --id 1-0WolA-FZVVo22ZEyFGDZfEnKXexK562 -O './models/base-256.pth'\n",
        "\n",
        "!pip install -r './requirements.txt'\n",
        "\n",
        "import sys\n",
        "import os\n",
        "\n",
        "sys.path.insert(1, os.getcwd() + \"/src\")"
      ]
    },
    {
      "cell_type": "code",
      "source": [
        "import torch\n",
        "from models import get_model_by_name\n",
        "from utils import get_default_device\n",
        "\n",
        "device = get_default_device()\n",
        "\n",
        "model = get_model_by_name('base-256')\n",
        "model.load_state_dict(torch.load('./models/base-256.pth', map_location=device))"
      ],
      "metadata": {
        "colab": {
          "base_uri": "https://localhost:8080/"
        },
        "id": "PCU7GOpci7Kg",
        "outputId": "e849f96e-7657-4f9f-b6e8-480e6d635170"
      },
      "execution_count": 4,
      "outputs": [
        {
          "output_type": "stream",
          "name": "stderr",
          "text": [
            "Some weights of the model checkpoint at bert-base-uncased were not used when initializing BertModel: ['cls.predictions.decoder.weight', 'cls.seq_relationship.bias', 'cls.predictions.transform.LayerNorm.bias', 'cls.predictions.bias', 'cls.seq_relationship.weight', 'cls.predictions.transform.dense.weight', 'cls.predictions.transform.LayerNorm.weight', 'cls.predictions.transform.dense.bias']\n",
            "- This IS expected if you are initializing BertModel from the checkpoint of a model trained on another task or with another architecture (e.g. initializing a BertForSequenceClassification model from a BertForPreTraining model).\n",
            "- This IS NOT expected if you are initializing BertModel from the checkpoint of a model that you expect to be exactly identical (initializing a BertForSequenceClassification model from a BertForSequenceClassification model).\n"
          ]
        },
        {
          "output_type": "execute_result",
          "data": {
            "text/plain": [
              "<All keys matched successfully>"
            ]
          },
          "metadata": {},
          "execution_count": 4
        }
      ]
    },
    {
      "cell_type": "code",
      "source": [
        "from data_utils.restore import restore\n",
        "\n",
        "sample_text = \"sample text another sentence where is my otter I don't want to test contractions\"\n",
        "restored_text = restore(sample_text, model, device)\n",
        "\n",
        "print()\n",
        "print()\n",
        "print()\n",
        "print(\"Before:\")\n",
        "print(sample_text)\n",
        "print(\"After:\")\n",
        "print(restored_text)\n"
      ],
      "metadata": {
        "colab": {
          "base_uri": "https://localhost:8080/"
        },
        "id": "UpEDUWVDbsmj",
        "outputId": "e7deb6f9-1c97-494d-c2ec-9f0e301c0ca0"
      },
      "execution_count": 5,
      "outputs": [
        {
          "output_type": "stream",
          "name": "stdout",
          "text": [
            "Tokenizing text\n",
            "Dropped tokens: Counter({\"'\": 1, '\"': 0})\n",
            "Used punctuation: Counter()\n"
          ]
        },
        {
          "output_type": "stream",
          "name": "stderr",
          "text": [
            "100%|██████████| 1/1 [00:04<00:00,  4.23s/it]\n"
          ]
        },
        {
          "output_type": "stream",
          "name": "stdout",
          "text": [
            "18\n",
            "18\n",
            "\n",
            "\n",
            "\n",
            "Before:\n",
            "sample text another sentence where is my otter I don't want to test contractions\n",
            "After:\n",
            "Sample text. Another sentence. Where is my otter? I don't want to test contractions.\n"
          ]
        }
      ]
    }
  ]
}